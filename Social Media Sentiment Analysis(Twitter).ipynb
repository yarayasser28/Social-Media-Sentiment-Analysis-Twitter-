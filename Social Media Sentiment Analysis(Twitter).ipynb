{
 "cells": [
  {
   "cell_type": "code",
   "execution_count": 1,
   "id": "ce3a2cfd-83f0-4fee-94c9-435be0b0ede5",
   "metadata": {},
   "outputs": [],
   "source": [
    "import pandas as pd\n",
    "import matplotlib.pyplot as plt\n",
    "import seaborn as sns"
   ]
  },
  {
   "cell_type": "code",
   "execution_count": 2,
   "id": "43eb685c-b403-4ea6-953a-f9e4b3231e69",
   "metadata": {},
   "outputs": [],
   "source": [
    "training_set=pd.read_csv(\"twitter_training.csv\", header = None ,names=['number' , 'source' , 'label' , 'message'])\n",
    "validation_set=pd.read_csv(\"twitter_validation.csv\", header = None ,names=['number' , 'source' , 'label' , 'message'])"
   ]
  },
  {
   "cell_type": "code",
   "execution_count": 3,
   "id": "e53e5fe6-68c8-47f4-9ca4-d7c5b3235a72",
   "metadata": {},
   "outputs": [
    {
     "data": {
      "text/html": [
       "<div>\n",
       "<style scoped>\n",
       "    .dataframe tbody tr th:only-of-type {\n",
       "        vertical-align: middle;\n",
       "    }\n",
       "\n",
       "    .dataframe tbody tr th {\n",
       "        vertical-align: top;\n",
       "    }\n",
       "\n",
       "    .dataframe thead th {\n",
       "        text-align: right;\n",
       "    }\n",
       "</style>\n",
       "<table border=\"1\" class=\"dataframe\">\n",
       "  <thead>\n",
       "    <tr style=\"text-align: right;\">\n",
       "      <th></th>\n",
       "      <th>number</th>\n",
       "      <th>source</th>\n",
       "      <th>label</th>\n",
       "      <th>message</th>\n",
       "    </tr>\n",
       "  </thead>\n",
       "  <tbody>\n",
       "    <tr>\n",
       "      <th>0</th>\n",
       "      <td>2401</td>\n",
       "      <td>Borderlands</td>\n",
       "      <td>Positive</td>\n",
       "      <td>im getting on borderlands and i will murder yo...</td>\n",
       "    </tr>\n",
       "    <tr>\n",
       "      <th>1</th>\n",
       "      <td>2401</td>\n",
       "      <td>Borderlands</td>\n",
       "      <td>Positive</td>\n",
       "      <td>I am coming to the borders and I will kill you...</td>\n",
       "    </tr>\n",
       "    <tr>\n",
       "      <th>2</th>\n",
       "      <td>2401</td>\n",
       "      <td>Borderlands</td>\n",
       "      <td>Positive</td>\n",
       "      <td>im getting on borderlands and i will kill you ...</td>\n",
       "    </tr>\n",
       "    <tr>\n",
       "      <th>3</th>\n",
       "      <td>2401</td>\n",
       "      <td>Borderlands</td>\n",
       "      <td>Positive</td>\n",
       "      <td>im coming on borderlands and i will murder you...</td>\n",
       "    </tr>\n",
       "    <tr>\n",
       "      <th>4</th>\n",
       "      <td>2401</td>\n",
       "      <td>Borderlands</td>\n",
       "      <td>Positive</td>\n",
       "      <td>im getting on borderlands 2 and i will murder ...</td>\n",
       "    </tr>\n",
       "    <tr>\n",
       "      <th>...</th>\n",
       "      <td>...</td>\n",
       "      <td>...</td>\n",
       "      <td>...</td>\n",
       "      <td>...</td>\n",
       "    </tr>\n",
       "    <tr>\n",
       "      <th>74677</th>\n",
       "      <td>9200</td>\n",
       "      <td>Nvidia</td>\n",
       "      <td>Positive</td>\n",
       "      <td>Just realized that the Windows partition of my...</td>\n",
       "    </tr>\n",
       "    <tr>\n",
       "      <th>74678</th>\n",
       "      <td>9200</td>\n",
       "      <td>Nvidia</td>\n",
       "      <td>Positive</td>\n",
       "      <td>Just realized that my Mac window partition is ...</td>\n",
       "    </tr>\n",
       "    <tr>\n",
       "      <th>74679</th>\n",
       "      <td>9200</td>\n",
       "      <td>Nvidia</td>\n",
       "      <td>Positive</td>\n",
       "      <td>Just realized the windows partition of my Mac ...</td>\n",
       "    </tr>\n",
       "    <tr>\n",
       "      <th>74680</th>\n",
       "      <td>9200</td>\n",
       "      <td>Nvidia</td>\n",
       "      <td>Positive</td>\n",
       "      <td>Just realized between the windows partition of...</td>\n",
       "    </tr>\n",
       "    <tr>\n",
       "      <th>74681</th>\n",
       "      <td>9200</td>\n",
       "      <td>Nvidia</td>\n",
       "      <td>Positive</td>\n",
       "      <td>Just like the windows partition of my Mac is l...</td>\n",
       "    </tr>\n",
       "  </tbody>\n",
       "</table>\n",
       "<p>74682 rows × 4 columns</p>\n",
       "</div>"
      ],
      "text/plain": [
       "       number       source     label  \\\n",
       "0        2401  Borderlands  Positive   \n",
       "1        2401  Borderlands  Positive   \n",
       "2        2401  Borderlands  Positive   \n",
       "3        2401  Borderlands  Positive   \n",
       "4        2401  Borderlands  Positive   \n",
       "...       ...          ...       ...   \n",
       "74677    9200       Nvidia  Positive   \n",
       "74678    9200       Nvidia  Positive   \n",
       "74679    9200       Nvidia  Positive   \n",
       "74680    9200       Nvidia  Positive   \n",
       "74681    9200       Nvidia  Positive   \n",
       "\n",
       "                                                 message  \n",
       "0      im getting on borderlands and i will murder yo...  \n",
       "1      I am coming to the borders and I will kill you...  \n",
       "2      im getting on borderlands and i will kill you ...  \n",
       "3      im coming on borderlands and i will murder you...  \n",
       "4      im getting on borderlands 2 and i will murder ...  \n",
       "...                                                  ...  \n",
       "74677  Just realized that the Windows partition of my...  \n",
       "74678  Just realized that my Mac window partition is ...  \n",
       "74679  Just realized the windows partition of my Mac ...  \n",
       "74680  Just realized between the windows partition of...  \n",
       "74681  Just like the windows partition of my Mac is l...  \n",
       "\n",
       "[74682 rows x 4 columns]"
      ]
     },
     "execution_count": 3,
     "metadata": {},
     "output_type": "execute_result"
    }
   ],
   "source": [
    "training_set"
   ]
  },
  {
   "cell_type": "code",
   "execution_count": 4,
   "id": "acfd3507-1a5a-4d52-bf88-9acb39b307fe",
   "metadata": {},
   "outputs": [
    {
     "data": {
      "text/html": [
       "<div>\n",
       "<style scoped>\n",
       "    .dataframe tbody tr th:only-of-type {\n",
       "        vertical-align: middle;\n",
       "    }\n",
       "\n",
       "    .dataframe tbody tr th {\n",
       "        vertical-align: top;\n",
       "    }\n",
       "\n",
       "    .dataframe thead th {\n",
       "        text-align: right;\n",
       "    }\n",
       "</style>\n",
       "<table border=\"1\" class=\"dataframe\">\n",
       "  <thead>\n",
       "    <tr style=\"text-align: right;\">\n",
       "      <th></th>\n",
       "      <th>number</th>\n",
       "      <th>source</th>\n",
       "      <th>label</th>\n",
       "      <th>message</th>\n",
       "    </tr>\n",
       "  </thead>\n",
       "  <tbody>\n",
       "    <tr>\n",
       "      <th>0</th>\n",
       "      <td>3364</td>\n",
       "      <td>Facebook</td>\n",
       "      <td>Irrelevant</td>\n",
       "      <td>I mentioned on Facebook that I was struggling ...</td>\n",
       "    </tr>\n",
       "    <tr>\n",
       "      <th>1</th>\n",
       "      <td>352</td>\n",
       "      <td>Amazon</td>\n",
       "      <td>Neutral</td>\n",
       "      <td>BBC News - Amazon boss Jeff Bezos rejects clai...</td>\n",
       "    </tr>\n",
       "    <tr>\n",
       "      <th>2</th>\n",
       "      <td>8312</td>\n",
       "      <td>Microsoft</td>\n",
       "      <td>Negative</td>\n",
       "      <td>@Microsoft Why do I pay for WORD when it funct...</td>\n",
       "    </tr>\n",
       "    <tr>\n",
       "      <th>3</th>\n",
       "      <td>4371</td>\n",
       "      <td>CS-GO</td>\n",
       "      <td>Negative</td>\n",
       "      <td>CSGO matchmaking is so full of closet hacking,...</td>\n",
       "    </tr>\n",
       "    <tr>\n",
       "      <th>4</th>\n",
       "      <td>4433</td>\n",
       "      <td>Google</td>\n",
       "      <td>Neutral</td>\n",
       "      <td>Now the President is slapping Americans in the...</td>\n",
       "    </tr>\n",
       "    <tr>\n",
       "      <th>...</th>\n",
       "      <td>...</td>\n",
       "      <td>...</td>\n",
       "      <td>...</td>\n",
       "      <td>...</td>\n",
       "    </tr>\n",
       "    <tr>\n",
       "      <th>995</th>\n",
       "      <td>4891</td>\n",
       "      <td>GrandTheftAuto(GTA)</td>\n",
       "      <td>Irrelevant</td>\n",
       "      <td>⭐️ Toronto is the arts and culture capital of ...</td>\n",
       "    </tr>\n",
       "    <tr>\n",
       "      <th>996</th>\n",
       "      <td>4359</td>\n",
       "      <td>CS-GO</td>\n",
       "      <td>Irrelevant</td>\n",
       "      <td>tHIS IS ACTUALLY A GOOD MOVE TOT BRING MORE VI...</td>\n",
       "    </tr>\n",
       "    <tr>\n",
       "      <th>997</th>\n",
       "      <td>2652</td>\n",
       "      <td>Borderlands</td>\n",
       "      <td>Positive</td>\n",
       "      <td>Today sucked so it’s time to drink wine n play...</td>\n",
       "    </tr>\n",
       "    <tr>\n",
       "      <th>998</th>\n",
       "      <td>8069</td>\n",
       "      <td>Microsoft</td>\n",
       "      <td>Positive</td>\n",
       "      <td>Bought a fraction of Microsoft today. Small wins.</td>\n",
       "    </tr>\n",
       "    <tr>\n",
       "      <th>999</th>\n",
       "      <td>6960</td>\n",
       "      <td>johnson&amp;johnson</td>\n",
       "      <td>Neutral</td>\n",
       "      <td>Johnson &amp; Johnson to stop selling talc baby po...</td>\n",
       "    </tr>\n",
       "  </tbody>\n",
       "</table>\n",
       "<p>1000 rows × 4 columns</p>\n",
       "</div>"
      ],
      "text/plain": [
       "     number               source       label  \\\n",
       "0      3364             Facebook  Irrelevant   \n",
       "1       352               Amazon     Neutral   \n",
       "2      8312            Microsoft    Negative   \n",
       "3      4371                CS-GO    Negative   \n",
       "4      4433               Google     Neutral   \n",
       "..      ...                  ...         ...   \n",
       "995    4891  GrandTheftAuto(GTA)  Irrelevant   \n",
       "996    4359                CS-GO  Irrelevant   \n",
       "997    2652          Borderlands    Positive   \n",
       "998    8069            Microsoft    Positive   \n",
       "999    6960      johnson&johnson     Neutral   \n",
       "\n",
       "                                               message  \n",
       "0    I mentioned on Facebook that I was struggling ...  \n",
       "1    BBC News - Amazon boss Jeff Bezos rejects clai...  \n",
       "2    @Microsoft Why do I pay for WORD when it funct...  \n",
       "3    CSGO matchmaking is so full of closet hacking,...  \n",
       "4    Now the President is slapping Americans in the...  \n",
       "..                                                 ...  \n",
       "995  ⭐️ Toronto is the arts and culture capital of ...  \n",
       "996  tHIS IS ACTUALLY A GOOD MOVE TOT BRING MORE VI...  \n",
       "997  Today sucked so it’s time to drink wine n play...  \n",
       "998  Bought a fraction of Microsoft today. Small wins.  \n",
       "999  Johnson & Johnson to stop selling talc baby po...  \n",
       "\n",
       "[1000 rows x 4 columns]"
      ]
     },
     "execution_count": 4,
     "metadata": {},
     "output_type": "execute_result"
    }
   ],
   "source": [
    "validation_set"
   ]
  },
  {
   "cell_type": "code",
   "execution_count": 5,
   "id": "865a4a59-3699-49cf-89cc-81adcdb14dd6",
   "metadata": {},
   "outputs": [
    {
     "data": {
      "text/plain": [
       "Index(['number', 'source', 'label', 'message'], dtype='object')"
      ]
     },
     "execution_count": 5,
     "metadata": {},
     "output_type": "execute_result"
    }
   ],
   "source": [
    "validation_set.columns"
   ]
  },
  {
   "cell_type": "code",
   "execution_count": 6,
   "id": "6e4150b0-282c-4816-a4e8-5a93ffe56993",
   "metadata": {},
   "outputs": [
    {
     "name": "stdout",
     "output_type": "stream",
     "text": [
      "<class 'pandas.core.frame.DataFrame'>\n",
      "RangeIndex: 74682 entries, 0 to 74681\n",
      "Data columns (total 4 columns):\n",
      " #   Column   Non-Null Count  Dtype \n",
      "---  ------   --------------  ----- \n",
      " 0   number   74682 non-null  int64 \n",
      " 1   source   74682 non-null  object\n",
      " 2   label    74682 non-null  object\n",
      " 3   message  73996 non-null  object\n",
      "dtypes: int64(1), object(3)\n",
      "memory usage: 2.3+ MB\n"
     ]
    }
   ],
   "source": [
    "training_set.info()"
   ]
  },
  {
   "cell_type": "code",
   "execution_count": 7,
   "id": "3c64fefa-9844-40be-b1f6-4e42b3b86b88",
   "metadata": {},
   "outputs": [
    {
     "data": {
      "text/plain": [
       "number       0\n",
       "source       0\n",
       "label        0\n",
       "message    686\n",
       "dtype: int64"
      ]
     },
     "execution_count": 7,
     "metadata": {},
     "output_type": "execute_result"
    }
   ],
   "source": [
    "training_set.isna().sum()"
   ]
  },
  {
   "cell_type": "code",
   "execution_count": 8,
   "id": "946e8e53-a5fc-4551-87a6-6ee1b35d0af4",
   "metadata": {},
   "outputs": [
    {
     "data": {
      "text/plain": [
       "number     0\n",
       "source     0\n",
       "label      0\n",
       "message    0\n",
       "dtype: int64"
      ]
     },
     "execution_count": 8,
     "metadata": {},
     "output_type": "execute_result"
    }
   ],
   "source": [
    "validation_set.isna().sum()"
   ]
  },
  {
   "cell_type": "code",
   "execution_count": 9,
   "id": "0621e618-ee0d-4173-95aa-f9a526ee2945",
   "metadata": {},
   "outputs": [],
   "source": [
    "from sklearn.impute import SimpleImputer\n",
    "import numpy as np\n",
    "imp = SimpleImputer(missing_values=np.nan, strategy='most_frequent')\n",
    "new_massage_train=imp.fit_transform(np.array(training_set['message']).reshape(-1,1))\n",
    "training_set['message']=new_massage_train.flatten()"
   ]
  },
  {
   "cell_type": "code",
   "execution_count": 10,
   "id": "1413afda-ae9f-4c79-af78-21aded16c8cb",
   "metadata": {},
   "outputs": [
    {
     "data": {
      "text/plain": [
       "number     0\n",
       "source     0\n",
       "label      0\n",
       "message    0\n",
       "dtype: int64"
      ]
     },
     "execution_count": 10,
     "metadata": {},
     "output_type": "execute_result"
    }
   ],
   "source": [
    "training_set.isna().sum()"
   ]
  },
  {
   "cell_type": "code",
   "execution_count": 11,
   "id": "1b47ee3e-ce5a-4271-bbb0-17283618c17d",
   "metadata": {},
   "outputs": [],
   "source": [
    "from bs4 import BeautifulSoup\n",
    "import re\n",
    "import spacy\n",
    "import emoji"
   ]
  },
  {
   "cell_type": "code",
   "execution_count": 13,
   "id": "3a526149-f562-4d72-8c33-5410351697eb",
   "metadata": {},
   "outputs": [
    {
     "name": "stdout",
     "output_type": "stream",
     "text": [
      "Collecting en-core-web-sm==3.8.0\n",
      "  Downloading https://github.com/explosion/spacy-models/releases/download/en_core_web_sm-3.8.0/en_core_web_sm-3.8.0-py3-none-any.whl (12.8 MB)\n",
      "     ---------------------------------------- 0.0/12.8 MB ? eta -:--:--\n",
      "     ---------------------------------------- 0.0/12.8 MB ? eta -:--:--\n",
      "     - -------------------------------------- 0.5/12.8 MB 1.9 MB/s eta 0:00:07\n",
      "     -- ------------------------------------- 0.8/12.8 MB 1.9 MB/s eta 0:00:07\n",
      "     ---- ----------------------------------- 1.3/12.8 MB 1.8 MB/s eta 0:00:07\n",
      "     ---- ----------------------------------- 1.6/12.8 MB 1.8 MB/s eta 0:00:07\n",
      "     ------ --------------------------------- 2.1/12.8 MB 1.8 MB/s eta 0:00:07\n",
      "     ------- -------------------------------- 2.4/12.8 MB 1.8 MB/s eta 0:00:06\n",
      "     -------- ------------------------------- 2.6/12.8 MB 1.7 MB/s eta 0:00:06\n",
      "     --------- ------------------------------ 3.1/12.8 MB 1.7 MB/s eta 0:00:06\n",
      "     ---------- ----------------------------- 3.4/12.8 MB 1.7 MB/s eta 0:00:06\n",
      "     ----------- ---------------------------- 3.7/12.8 MB 1.7 MB/s eta 0:00:06\n",
      "     ------------- -------------------------- 4.2/12.8 MB 1.7 MB/s eta 0:00:05\n",
      "     ------------- -------------------------- 4.5/12.8 MB 1.7 MB/s eta 0:00:05\n",
      "     -------------- ------------------------- 4.7/12.8 MB 1.7 MB/s eta 0:00:05\n",
      "     ---------------- ----------------------- 5.2/12.8 MB 1.7 MB/s eta 0:00:05\n",
      "     ----------------- ---------------------- 5.5/12.8 MB 1.7 MB/s eta 0:00:05\n",
      "     ------------------ --------------------- 6.0/12.8 MB 1.7 MB/s eta 0:00:04\n",
      "     ------------------- -------------------- 6.3/12.8 MB 1.7 MB/s eta 0:00:04\n",
      "     --------------------- ------------------ 6.8/12.8 MB 1.7 MB/s eta 0:00:04\n",
      "     ---------------------- ----------------- 7.1/12.8 MB 1.7 MB/s eta 0:00:04\n",
      "     ---------------------- ----------------- 7.3/12.8 MB 1.7 MB/s eta 0:00:04\n",
      "     ------------------------ --------------- 7.9/12.8 MB 1.7 MB/s eta 0:00:03\n",
      "     ------------------------- -------------- 8.1/12.8 MB 1.7 MB/s eta 0:00:03\n",
      "     -------------------------- ------------- 8.4/12.8 MB 1.7 MB/s eta 0:00:03\n",
      "     --------------------------- ------------ 8.9/12.8 MB 1.7 MB/s eta 0:00:03\n",
      "     ---------------------------- ----------- 9.2/12.8 MB 1.7 MB/s eta 0:00:03\n",
      "     ------------------------------ --------- 9.7/12.8 MB 1.7 MB/s eta 0:00:02\n",
      "     ------------------------------- -------- 10.0/12.8 MB 1.7 MB/s eta 0:00:02\n",
      "     -------------------------------- ------- 10.5/12.8 MB 1.7 MB/s eta 0:00:02\n",
      "     --------------------------------- ------ 10.7/12.8 MB 1.7 MB/s eta 0:00:02\n",
      "     ---------------------------------- ----- 11.0/12.8 MB 1.7 MB/s eta 0:00:02\n",
      "     ------------------------------------ --- 11.5/12.8 MB 1.7 MB/s eta 0:00:01\n",
      "     ------------------------------------ --- 11.8/12.8 MB 1.7 MB/s eta 0:00:01\n",
      "     ------------------------------------- -- 12.1/12.8 MB 1.7 MB/s eta 0:00:01\n",
      "     ---------------------------------------  12.6/12.8 MB 1.7 MB/s eta 0:00:01\n",
      "     ---------------------------------------- 12.8/12.8 MB 1.7 MB/s eta 0:00:00\n",
      "Installing collected packages: en-core-web-sm\n",
      "Successfully installed en-core-web-sm-3.8.0\n",
      "\u001b[38;5;2m[+] Download and installation successful\u001b[0m\n",
      "You can now load the package via spacy.load('en_core_web_sm')\n"
     ]
    },
    {
     "name": "stderr",
     "output_type": "stream",
     "text": [
      "\n",
      "[notice] A new release of pip is available: 25.0 -> 25.0.1\n",
      "[notice] To update, run: python.exe -m pip install --upgrade pip\n"
     ]
    }
   ],
   "source": [
    "!python -m spacy download en_core_web_sm"
   ]
  },
  {
   "cell_type": "code",
   "execution_count": 14,
   "id": "26fd7945-4c91-4550-83c6-a1f0d3d158df",
   "metadata": {},
   "outputs": [],
   "source": [
    "def remove_html(text):\n",
    "\n",
    "    clean_text = BeautifulSoup(text , 'html.parser')\n",
    "\n",
    "    return clean_text.get_text()\n",
    "\n",
    "def clean_url(text):\n",
    "    \n",
    "    return re.sub(r'http\\S+|www\\S+', '', text)\n",
    "def remove_punctuation(text):\n",
    "    \n",
    "    return re.sub(r'[^\\w\\s]', '', text)\n",
    "nlp = spacy.load(\"en_core_web_sm\")\n",
    "\n",
    "def remove_stopwords(text):\n",
    "    if not isinstance(text, str):  # Handle non-string inputs\n",
    "        return text\n",
    "        \n",
    "    doc = nlp(text)\n",
    "    return \" \".join([token.text for token in doc if not token.is_stop])\n",
    "def remove_emojis(text):\n",
    "    return emoji.demojize(text)\n",
    "def lemmatize_text(text):\n",
    "    \n",
    "    doc = nlp(text)\n",
    "    return \" \".join([token.lemma_ for token in doc])"
   ]
  },
  {
   "cell_type": "code",
   "execution_count": 15,
   "id": "c0475dbf-3c1f-49a6-bca5-a7bfa447ff3b",
   "metadata": {},
   "outputs": [],
   "source": [
    "def data_preprocessing(df):\n",
    "    df['message'] = df['message'].str.lower()\n",
    "    df['message'] = df['message'].apply(remove_html)\n",
    "    print(df)\n",
    "    df['message'] = df['message'].apply(clean_url)\n",
    "    df['message'] = df['message'].apply(remove_punctuation)\n",
    "    print(df)\n",
    "    df['message'] = df['message'].apply(remove_stopwords)\n",
    "    df['message'] = df['message'].apply(remove_emojis)\n",
    "    print(df)\n",
    "    df['message_lemmatized'] = df['message'].apply(lemmatize_text)\n",
    "    return df\n",
    "\n",
    "    "
   ]
  },
  {
   "cell_type": "code",
   "execution_count": 16,
   "id": "8efac2b8-9b23-4d1c-bc22-22d9dd4234fa",
   "metadata": {},
   "outputs": [
    {
     "name": "stderr",
     "output_type": "stream",
     "text": [
      "C:\\Users\\Yara\\AppData\\Local\\Temp\\ipykernel_9692\\3155567569.py:3: MarkupResemblesLocatorWarning: The input looks more like a filename than markup. You may want to open this file and pass the filehandle into Beautiful Soup.\n",
      "  clean_text = BeautifulSoup(text , 'html.parser')\n"
     ]
    },
    {
     "name": "stdout",
     "output_type": "stream",
     "text": [
      "       number       source     label  \\\n",
      "0        2401  Borderlands  Positive   \n",
      "1        2401  Borderlands  Positive   \n",
      "2        2401  Borderlands  Positive   \n",
      "3        2401  Borderlands  Positive   \n",
      "4        2401  Borderlands  Positive   \n",
      "...       ...          ...       ...   \n",
      "74677    9200       Nvidia  Positive   \n",
      "74678    9200       Nvidia  Positive   \n",
      "74679    9200       Nvidia  Positive   \n",
      "74680    9200       Nvidia  Positive   \n",
      "74681    9200       Nvidia  Positive   \n",
      "\n",
      "                                                 message  \n",
      "0      im getting on borderlands and i will murder yo...  \n",
      "1      i am coming to the borders and i will kill you...  \n",
      "2      im getting on borderlands and i will kill you ...  \n",
      "3      im coming on borderlands and i will murder you...  \n",
      "4      im getting on borderlands 2 and i will murder ...  \n",
      "...                                                  ...  \n",
      "74677  just realized that the windows partition of my...  \n",
      "74678  just realized that my mac window partition is ...  \n",
      "74679  just realized the windows partition of my mac ...  \n",
      "74680  just realized between the windows partition of...  \n",
      "74681  just like the windows partition of my mac is l...  \n",
      "\n",
      "[74682 rows x 4 columns]\n",
      "       number       source     label  \\\n",
      "0        2401  Borderlands  Positive   \n",
      "1        2401  Borderlands  Positive   \n",
      "2        2401  Borderlands  Positive   \n",
      "3        2401  Borderlands  Positive   \n",
      "4        2401  Borderlands  Positive   \n",
      "...       ...          ...       ...   \n",
      "74677    9200       Nvidia  Positive   \n",
      "74678    9200       Nvidia  Positive   \n",
      "74679    9200       Nvidia  Positive   \n",
      "74680    9200       Nvidia  Positive   \n",
      "74681    9200       Nvidia  Positive   \n",
      "\n",
      "                                                 message  \n",
      "0      im getting on borderlands and i will murder yo...  \n",
      "1      i am coming to the borders and i will kill you...  \n",
      "2      im getting on borderlands and i will kill you all  \n",
      "3      im coming on borderlands and i will murder you...  \n",
      "4      im getting on borderlands 2 and i will murder ...  \n",
      "...                                                  ...  \n",
      "74677  just realized that the windows partition of my...  \n",
      "74678  just realized that my mac window partition is ...  \n",
      "74679  just realized the windows partition of my mac ...  \n",
      "74680  just realized between the windows partition of...  \n",
      "74681  just like the windows partition of my mac is l...  \n",
      "\n",
      "[74682 rows x 4 columns]\n",
      "       number       source     label  \\\n",
      "0        2401  Borderlands  Positive   \n",
      "1        2401  Borderlands  Positive   \n",
      "2        2401  Borderlands  Positive   \n",
      "3        2401  Borderlands  Positive   \n",
      "4        2401  Borderlands  Positive   \n",
      "...       ...          ...       ...   \n",
      "74677    9200       Nvidia  Positive   \n",
      "74678    9200       Nvidia  Positive   \n",
      "74679    9200       Nvidia  Positive   \n",
      "74680    9200       Nvidia  Positive   \n",
      "74681    9200       Nvidia  Positive   \n",
      "\n",
      "                                                 message  \n",
      "0                           m getting borderlands murder  \n",
      "1                                    coming borders kill  \n",
      "2                             m getting borderlands kill  \n",
      "3                            m coming borderlands murder  \n",
      "4                         m getting borderlands 2 murder  \n",
      "...                                                  ...  \n",
      "74677  realized windows partition mac like 6 years nv...  \n",
      "74678  realized mac window partition 6 years nvidia d...  \n",
      "74679  realized windows partition mac 6 years nvidia ...  \n",
      "74680  realized windows partition mac like 6 years nv...  \n",
      "74681  like windows partition mac like 6 years driver...  \n",
      "\n",
      "[74682 rows x 4 columns]\n"
     ]
    }
   ],
   "source": [
    "df_train=data_preprocessing(training_set)"
   ]
  },
  {
   "cell_type": "code",
   "execution_count": 17,
   "id": "a6ada6ba-6a39-4fbe-9a05-f87ff31647f7",
   "metadata": {},
   "outputs": [
    {
     "data": {
      "text/html": [
       "<div>\n",
       "<style scoped>\n",
       "    .dataframe tbody tr th:only-of-type {\n",
       "        vertical-align: middle;\n",
       "    }\n",
       "\n",
       "    .dataframe tbody tr th {\n",
       "        vertical-align: top;\n",
       "    }\n",
       "\n",
       "    .dataframe thead th {\n",
       "        text-align: right;\n",
       "    }\n",
       "</style>\n",
       "<table border=\"1\" class=\"dataframe\">\n",
       "  <thead>\n",
       "    <tr style=\"text-align: right;\">\n",
       "      <th></th>\n",
       "      <th>number</th>\n",
       "      <th>source</th>\n",
       "      <th>label</th>\n",
       "      <th>message</th>\n",
       "      <th>message_lemmatized</th>\n",
       "    </tr>\n",
       "  </thead>\n",
       "  <tbody>\n",
       "    <tr>\n",
       "      <th>0</th>\n",
       "      <td>2401</td>\n",
       "      <td>Borderlands</td>\n",
       "      <td>Positive</td>\n",
       "      <td>m getting borderlands murder</td>\n",
       "      <td>m get borderland murder</td>\n",
       "    </tr>\n",
       "    <tr>\n",
       "      <th>1</th>\n",
       "      <td>2401</td>\n",
       "      <td>Borderlands</td>\n",
       "      <td>Positive</td>\n",
       "      <td>coming borders kill</td>\n",
       "      <td>come border kill</td>\n",
       "    </tr>\n",
       "    <tr>\n",
       "      <th>2</th>\n",
       "      <td>2401</td>\n",
       "      <td>Borderlands</td>\n",
       "      <td>Positive</td>\n",
       "      <td>m getting borderlands kill</td>\n",
       "      <td>m get borderland kill</td>\n",
       "    </tr>\n",
       "    <tr>\n",
       "      <th>3</th>\n",
       "      <td>2401</td>\n",
       "      <td>Borderlands</td>\n",
       "      <td>Positive</td>\n",
       "      <td>m coming borderlands murder</td>\n",
       "      <td>m come borderland murder</td>\n",
       "    </tr>\n",
       "    <tr>\n",
       "      <th>4</th>\n",
       "      <td>2401</td>\n",
       "      <td>Borderlands</td>\n",
       "      <td>Positive</td>\n",
       "      <td>m getting borderlands 2 murder</td>\n",
       "      <td>m get borderland 2 murder</td>\n",
       "    </tr>\n",
       "    <tr>\n",
       "      <th>...</th>\n",
       "      <td>...</td>\n",
       "      <td>...</td>\n",
       "      <td>...</td>\n",
       "      <td>...</td>\n",
       "      <td>...</td>\n",
       "    </tr>\n",
       "    <tr>\n",
       "      <th>74677</th>\n",
       "      <td>9200</td>\n",
       "      <td>Nvidia</td>\n",
       "      <td>Positive</td>\n",
       "      <td>realized windows partition mac like 6 years nv...</td>\n",
       "      <td>realize windows partition mac like 6 year nvid...</td>\n",
       "    </tr>\n",
       "    <tr>\n",
       "      <th>74678</th>\n",
       "      <td>9200</td>\n",
       "      <td>Nvidia</td>\n",
       "      <td>Positive</td>\n",
       "      <td>realized mac window partition 6 years nvidia d...</td>\n",
       "      <td>realize mac window partition 6 year nvidia dri...</td>\n",
       "    </tr>\n",
       "    <tr>\n",
       "      <th>74679</th>\n",
       "      <td>9200</td>\n",
       "      <td>Nvidia</td>\n",
       "      <td>Positive</td>\n",
       "      <td>realized windows partition mac 6 years nvidia ...</td>\n",
       "      <td>realize windows partition mac 6 year nvidia dr...</td>\n",
       "    </tr>\n",
       "    <tr>\n",
       "      <th>74680</th>\n",
       "      <td>9200</td>\n",
       "      <td>Nvidia</td>\n",
       "      <td>Positive</td>\n",
       "      <td>realized windows partition mac like 6 years nv...</td>\n",
       "      <td>realize windows partition mac like 6 year nvid...</td>\n",
       "    </tr>\n",
       "    <tr>\n",
       "      <th>74681</th>\n",
       "      <td>9200</td>\n",
       "      <td>Nvidia</td>\n",
       "      <td>Positive</td>\n",
       "      <td>like windows partition mac like 6 years driver...</td>\n",
       "      <td>like windows partition mac like 6 year driver ...</td>\n",
       "    </tr>\n",
       "  </tbody>\n",
       "</table>\n",
       "<p>74682 rows × 5 columns</p>\n",
       "</div>"
      ],
      "text/plain": [
       "       number       source     label  \\\n",
       "0        2401  Borderlands  Positive   \n",
       "1        2401  Borderlands  Positive   \n",
       "2        2401  Borderlands  Positive   \n",
       "3        2401  Borderlands  Positive   \n",
       "4        2401  Borderlands  Positive   \n",
       "...       ...          ...       ...   \n",
       "74677    9200       Nvidia  Positive   \n",
       "74678    9200       Nvidia  Positive   \n",
       "74679    9200       Nvidia  Positive   \n",
       "74680    9200       Nvidia  Positive   \n",
       "74681    9200       Nvidia  Positive   \n",
       "\n",
       "                                                 message  \\\n",
       "0                           m getting borderlands murder   \n",
       "1                                    coming borders kill   \n",
       "2                             m getting borderlands kill   \n",
       "3                            m coming borderlands murder   \n",
       "4                         m getting borderlands 2 murder   \n",
       "...                                                  ...   \n",
       "74677  realized windows partition mac like 6 years nv...   \n",
       "74678  realized mac window partition 6 years nvidia d...   \n",
       "74679  realized windows partition mac 6 years nvidia ...   \n",
       "74680  realized windows partition mac like 6 years nv...   \n",
       "74681  like windows partition mac like 6 years driver...   \n",
       "\n",
       "                                      message_lemmatized  \n",
       "0                                m get borderland murder  \n",
       "1                                       come border kill  \n",
       "2                                  m get borderland kill  \n",
       "3                               m come borderland murder  \n",
       "4                              m get borderland 2 murder  \n",
       "...                                                  ...  \n",
       "74677  realize windows partition mac like 6 year nvid...  \n",
       "74678  realize mac window partition 6 year nvidia dri...  \n",
       "74679  realize windows partition mac 6 year nvidia dr...  \n",
       "74680  realize windows partition mac like 6 year nvid...  \n",
       "74681  like windows partition mac like 6 year driver ...  \n",
       "\n",
       "[74682 rows x 5 columns]"
      ]
     },
     "execution_count": 17,
     "metadata": {},
     "output_type": "execute_result"
    }
   ],
   "source": [
    "df_train"
   ]
  },
  {
   "cell_type": "code",
   "execution_count": 18,
   "id": "1573d790-b22a-4c51-aa6c-db7a080c086c",
   "metadata": {},
   "outputs": [
    {
     "name": "stderr",
     "output_type": "stream",
     "text": [
      "C:\\Users\\Yara\\AppData\\Local\\Temp\\ipykernel_9692\\3155567569.py:3: MarkupResemblesLocatorWarning: The input looks more like a filename than markup. You may want to open this file and pass the filehandle into Beautiful Soup.\n",
      "  clean_text = BeautifulSoup(text , 'html.parser')\n"
     ]
    },
    {
     "name": "stdout",
     "output_type": "stream",
     "text": [
      "     number               source       label  \\\n",
      "0      3364             Facebook  Irrelevant   \n",
      "1       352               Amazon     Neutral   \n",
      "2      8312            Microsoft    Negative   \n",
      "3      4371                CS-GO    Negative   \n",
      "4      4433               Google     Neutral   \n",
      "..      ...                  ...         ...   \n",
      "995    4891  GrandTheftAuto(GTA)  Irrelevant   \n",
      "996    4359                CS-GO  Irrelevant   \n",
      "997    2652          Borderlands    Positive   \n",
      "998    8069            Microsoft    Positive   \n",
      "999    6960      johnson&johnson     Neutral   \n",
      "\n",
      "                                               message  \n",
      "0    i mentioned on facebook that i was struggling ...  \n",
      "1    bbc news - amazon boss jeff bezos rejects clai...  \n",
      "2    @microsoft why do i pay for word when it funct...  \n",
      "3    csgo matchmaking is so full of closet hacking,...  \n",
      "4    now the president is slapping americans in the...  \n",
      "..                                                 ...  \n",
      "995  ⭐️ toronto is the arts and culture capital of ...  \n",
      "996  this is actually a good move tot bring more vi...  \n",
      "997  today sucked so it’s time to drink wine n play...  \n",
      "998  bought a fraction of microsoft today. small wins.  \n",
      "999  johnson & johnson to stop selling talc baby po...  \n",
      "\n",
      "[1000 rows x 4 columns]\n",
      "     number               source       label  \\\n",
      "0      3364             Facebook  Irrelevant   \n",
      "1       352               Amazon     Neutral   \n",
      "2      8312            Microsoft    Negative   \n",
      "3      4371                CS-GO    Negative   \n",
      "4      4433               Google     Neutral   \n",
      "..      ...                  ...         ...   \n",
      "995    4891  GrandTheftAuto(GTA)  Irrelevant   \n",
      "996    4359                CS-GO  Irrelevant   \n",
      "997    2652          Borderlands    Positive   \n",
      "998    8069            Microsoft    Positive   \n",
      "999    6960      johnson&johnson     Neutral   \n",
      "\n",
      "                                               message  \n",
      "0    i mentioned on facebook that i was struggling ...  \n",
      "1    bbc news  amazon boss jeff bezos rejects claim...  \n",
      "2    microsoft why do i pay for word when it functi...  \n",
      "3    csgo matchmaking is so full of closet hacking ...  \n",
      "4    now the president is slapping americans in the...  \n",
      "..                                                 ...  \n",
      "995   toronto is the arts and culture capital of ca...  \n",
      "996  this is actually a good move tot bring more vi...  \n",
      "997  today sucked so its time to drink wine n play ...  \n",
      "998    bought a fraction of microsoft today small wins  \n",
      "999  johnson  johnson to stop selling talc baby pow...  \n",
      "\n",
      "[1000 rows x 4 columns]\n",
      "     number               source       label  \\\n",
      "0      3364             Facebook  Irrelevant   \n",
      "1       352               Amazon     Neutral   \n",
      "2      8312            Microsoft    Negative   \n",
      "3      4371                CS-GO    Negative   \n",
      "4      4433               Google     Neutral   \n",
      "..      ...                  ...         ...   \n",
      "995    4891  GrandTheftAuto(GTA)  Irrelevant   \n",
      "996    4359                CS-GO  Irrelevant   \n",
      "997    2652          Borderlands    Positive   \n",
      "998    8069            Microsoft    Positive   \n",
      "999    6960      johnson&johnson     Neutral   \n",
      "\n",
      "                                               message  \n",
      "0    mentioned facebook struggling motivation run d...  \n",
      "1    bbc news   amazon boss jeff bezos rejects clai...  \n",
      "2    microsoft pay word functions poorly samsungus ...  \n",
      "3     csgo matchmaking closet hacking truly awful game  \n",
      "4    president slapping americans face commit unlaw...  \n",
      "..                                                 ...  \n",
      "995    toronto arts culture capital canada wonder w...  \n",
      "996  actually good tot bring viewers \\n\\n people go...  \n",
      "997  today sucked time drink wine n play borderland...  \n",
      "998         bought fraction microsoft today small wins  \n",
      "999  johnson   johnson stop selling talc baby powde...  \n",
      "\n",
      "[1000 rows x 4 columns]\n"
     ]
    }
   ],
   "source": [
    "df_test=data_preprocessing(validation_set)"
   ]
  },
  {
   "cell_type": "code",
   "execution_count": 19,
   "id": "78d84061-772e-467c-bafc-066b426bac56",
   "metadata": {},
   "outputs": [
    {
     "data": {
      "text/plain": [
       "label\n",
       "2    31308\n",
       "0    22542\n",
       "1    20832\n",
       "Name: count, dtype: int64"
      ]
     },
     "execution_count": 19,
     "metadata": {},
     "output_type": "execute_result"
    }
   ],
   "source": [
    "df_train['label'] = df_train['label'].map({'Positive' : 1 ,  'Negative' : 0 ,'Neutral':2 , 'Irrelevant' : 2 })\n",
    "df_train['label'].value_counts()"
   ]
  },
  {
   "cell_type": "code",
   "execution_count": 20,
   "id": "23e47e95-fdb8-41fc-8196-a05f6ac4bb41",
   "metadata": {},
   "outputs": [
    {
     "data": {
      "text/plain": [
       "label\n",
       "2    457\n",
       "1    277\n",
       "0    266\n",
       "Name: count, dtype: int64"
      ]
     },
     "execution_count": 20,
     "metadata": {},
     "output_type": "execute_result"
    }
   ],
   "source": [
    "df_test['label'] = df_test['label'].map({'Positive' : 1 ,  'Negative' : 0 ,'Neutral':2 , 'Irrelevant' : 2 })\n",
    "df_test['label'].value_counts()"
   ]
  },
  {
   "cell_type": "code",
   "execution_count": 21,
   "id": "62a835f7-8cd5-4dc5-bdc9-cb8a21dfd5ca",
   "metadata": {},
   "outputs": [],
   "source": [
    "x_train=df_train['message_lemmatized']\n",
    "y_train=df_train['label']\n",
    "x_test=df_test['message_lemmatized']\n",
    "y_test=df_test['label']"
   ]
  },
  {
   "cell_type": "code",
   "execution_count": 22,
   "id": "40021212-1f48-4242-8b50-762558041a7e",
   "metadata": {},
   "outputs": [
    {
     "data": {
      "text/plain": [
       "pandas.core.series.Series"
      ]
     },
     "execution_count": 22,
     "metadata": {},
     "output_type": "execute_result"
    }
   ],
   "source": [
    "type(x_train)"
   ]
  },
  {
   "cell_type": "code",
   "execution_count": 23,
   "id": "27ff5d13-fbaa-48e1-adce-d7f698b3d990",
   "metadata": {},
   "outputs": [],
   "source": [
    "import tensorflow as tf\n",
    "from tensorflow.keras.preprocessing.text import Tokenizer\n",
    "\n",
    "tokenizer = Tokenizer(oov_token = 'nothing')\n",
    "tokenizer.fit_on_texts(x_train) "
   ]
  },
  {
   "cell_type": "code",
   "execution_count": 24,
   "id": "379c819f-70c9-4e32-a7d4-43767c1762fc",
   "metadata": {},
   "outputs": [
    {
     "data": {
      "text/plain": [
       "74682"
      ]
     },
     "execution_count": 24,
     "metadata": {},
     "output_type": "execute_result"
    }
   ],
   "source": [
    "tokenizer.document_count"
   ]
  },
  {
   "cell_type": "code",
   "execution_count": 25,
   "id": "4ecd4dbd-93d6-4f6a-b872-727451d83dce",
   "metadata": {},
   "outputs": [],
   "source": [
    "X_train_seq = tokenizer.texts_to_sequences(x_train)\n",
    "X_test_seq = tokenizer.texts_to_sequences(x_test)"
   ]
  },
  {
   "cell_type": "code",
   "execution_count": 26,
   "id": "f42f927a-0fe9-4e4c-898d-bd414b11e31a",
   "metadata": {},
   "outputs": [
    {
     "name": "stdout",
     "output_type": "stream",
     "text": [
      "Maximum sequence length (maxlen): 161\n"
     ]
    }
   ],
   "source": [
    "# finding the max length\n",
    "max_len = max(len(tokens) for tokens in X_train_seq)\n",
    "print(\"Maximum sequence length (maxlen):\", max_len)"
   ]
  },
  {
   "cell_type": "code",
   "execution_count": 27,
   "id": "7d0c13bf-7212-42f2-899f-187efbfeaa2e",
   "metadata": {},
   "outputs": [],
   "source": [
    "from tensorflow.keras.preprocessing.sequence import pad_sequences\n",
    "\n",
    "# Perform padding on X_train and X_test sequences and X_val\n",
    "\n",
    "X_train_padded = pad_sequences(X_train_seq, maxlen=max_len, padding='post')\n",
    "X_test_padded = pad_sequences(X_test_seq, maxlen=max_len, padding='post')"
   ]
  },
  {
   "cell_type": "code",
   "execution_count": 28,
   "id": "76bf0b61-effa-4a74-9c18-932cfbdac9fa",
   "metadata": {},
   "outputs": [
    {
     "name": "stdout",
     "output_type": "stream",
     "text": [
      "X_train_padded:\n",
      "[[   5    9   59 1131    0    0    0    0    0    0    0    0    0    0\n",
      "     0    0    0    0    0    0    0    0    0    0    0    0    0    0\n",
      "     0    0    0    0    0    0    0    0    0    0    0    0    0    0\n",
      "     0    0    0    0    0    0    0    0    0    0    0    0    0    0\n",
      "     0    0    0    0    0    0    0    0    0    0    0    0    0    0\n",
      "     0    0    0    0    0    0    0    0    0    0    0    0    0    0\n",
      "     0    0    0    0    0    0    0    0    0    0    0    0    0    0\n",
      "     0    0    0    0    0    0    0    0    0    0    0    0    0    0\n",
      "     0    0    0    0    0    0    0    0    0    0    0    0    0    0\n",
      "     0    0    0    0    0    0    0    0    0    0    0    0    0    0\n",
      "     0    0    0    0    0    0    0    0    0    0    0    0    0    0\n",
      "     0    0    0    0    0    0    0]]\n",
      "\n",
      "X_test_padded:\n",
      "[[  729    34  1009  3861   148    25  2329  1441    22  7010 12871     3\n",
      "   1468   123  3816    43     5  1418   351   358     0     0     0     0\n",
      "      0     0     0     0     0     0     0     0     0     0     0     0\n",
      "      0     0     0     0     0     0     0     0     0     0     0     0\n",
      "      0     0     0     0     0     0     0     0     0     0     0     0\n",
      "      0     0     0     0     0     0     0     0     0     0     0     0\n",
      "      0     0     0     0     0     0     0     0     0     0     0     0\n",
      "      0     0     0     0     0     0     0     0     0     0     0     0\n",
      "      0     0     0     0     0     0     0     0     0     0     0     0\n",
      "      0     0     0     0     0     0     0     0     0     0     0     0\n",
      "      0     0     0     0     0     0     0     0     0     0     0     0\n",
      "      0     0     0     0     0     0     0     0     0     0     0     0\n",
      "      0     0     0     0     0     0     0     0     0     0     0     0\n",
      "      0     0     0     0     0]]\n"
     ]
    }
   ],
   "source": [
    "# Print the padded sequences for X_train and X_test\n",
    "print(\"X_train_padded:\")\n",
    "print(X_train_padded[:1])\n",
    "print(\"\\nX_test_padded:\")\n",
    "print(X_test_padded[:1])"
   ]
  },
  {
   "cell_type": "code",
   "execution_count": 29,
   "id": "ceedf018-a9eb-49ed-8eb4-274e10090a34",
   "metadata": {},
   "outputs": [
    {
     "name": "stdout",
     "output_type": "stream",
     "text": [
      "34932\n"
     ]
    }
   ],
   "source": [
    "# Define vocab size based on the tokenizer\n",
    "vocab_size = len(tokenizer.word_index) + 1\n",
    "\n",
    "print(vocab_size)"
   ]
  },
  {
   "cell_type": "code",
   "execution_count": 31,
   "id": "5f93272f-f860-4bbc-8d79-ed06c5aad7f4",
   "metadata": {},
   "outputs": [
    {
     "name": "stdout",
     "output_type": "stream",
     "text": [
      "Epoch 1/30\n",
      "\u001b[1m2334/2334\u001b[0m \u001b[32m━━━━━━━━━━━━━━━━━━━━\u001b[0m\u001b[37m\u001b[0m \u001b[1m1142s\u001b[0m 485ms/step - accuracy: 0.6327 - loss: 0.8313 - val_accuracy: 0.9220 - val_loss: 0.2355\n",
      "Epoch 2/30\n",
      "\u001b[1m2334/2334\u001b[0m \u001b[32m━━━━━━━━━━━━━━━━━━━━\u001b[0m\u001b[37m\u001b[0m \u001b[1m1104s\u001b[0m 473ms/step - accuracy: 0.8785 - loss: 0.3175 - val_accuracy: 0.9400 - val_loss: 0.1821\n",
      "Epoch 3/30\n",
      "\u001b[1m2334/2334\u001b[0m \u001b[32m━━━━━━━━━━━━━━━━━━━━\u001b[0m\u001b[37m\u001b[0m \u001b[1m1095s\u001b[0m 469ms/step - accuracy: 0.9158 - loss: 0.2147 - val_accuracy: 0.9460 - val_loss: 0.1695\n",
      "Epoch 4/30\n",
      "\u001b[1m2334/2334\u001b[0m \u001b[32m━━━━━━━━━━━━━━━━━━━━\u001b[0m\u001b[37m\u001b[0m \u001b[1m1085s\u001b[0m 465ms/step - accuracy: 0.9276 - loss: 0.1794 - val_accuracy: 0.9540 - val_loss: 0.1783\n",
      "Epoch 5/30\n",
      "\u001b[1m2334/2334\u001b[0m \u001b[32m━━━━━━━━━━━━━━━━━━━━\u001b[0m\u001b[37m\u001b[0m \u001b[1m1089s\u001b[0m 467ms/step - accuracy: 0.9399 - loss: 0.1528 - val_accuracy: 0.9520 - val_loss: 0.1708\n",
      "Epoch 6/30\n",
      "\u001b[1m2334/2334\u001b[0m \u001b[32m━━━━━━━━━━━━━━━━━━━━\u001b[0m\u001b[37m\u001b[0m \u001b[1m1101s\u001b[0m 472ms/step - accuracy: 0.9462 - loss: 0.1297 - val_accuracy: 0.9580 - val_loss: 0.1989\n",
      "Epoch 7/30\n",
      "\u001b[1m2334/2334\u001b[0m \u001b[32m━━━━━━━━━━━━━━━━━━━━\u001b[0m\u001b[37m\u001b[0m \u001b[1m893s\u001b[0m 382ms/step - accuracy: 0.9512 - loss: 0.1193 - val_accuracy: 0.9600 - val_loss: 0.2090\n",
      "Epoch 8/30\n",
      "\u001b[1m2334/2334\u001b[0m \u001b[32m━━━━━━━━━━━━━━━━━━━━\u001b[0m\u001b[37m\u001b[0m \u001b[1m714s\u001b[0m 306ms/step - accuracy: 0.9537 - loss: 0.1106 - val_accuracy: 0.9560 - val_loss: 0.2005\n",
      "Epoch 9/30\n",
      "\u001b[1m2334/2334\u001b[0m \u001b[32m━━━━━━━━━━━━━━━━━━━━\u001b[0m\u001b[37m\u001b[0m \u001b[1m737s\u001b[0m 315ms/step - accuracy: 0.9565 - loss: 0.1024 - val_accuracy: 0.9570 - val_loss: 0.2189\n",
      "Epoch 10/30\n",
      "\u001b[1m2334/2334\u001b[0m \u001b[32m━━━━━━━━━━━━━━━━━━━━\u001b[0m\u001b[37m\u001b[0m \u001b[1m712s\u001b[0m 305ms/step - accuracy: 0.9590 - loss: 0.0973 - val_accuracy: 0.9580 - val_loss: 0.2295\n",
      "Epoch 11/30\n",
      "\u001b[1m2334/2334\u001b[0m \u001b[32m━━━━━━━━━━━━━━━━━━━━\u001b[0m\u001b[37m\u001b[0m \u001b[1m750s\u001b[0m 321ms/step - accuracy: 0.9602 - loss: 0.0929 - val_accuracy: 0.9570 - val_loss: 0.2345\n",
      "Epoch 11: early stopping\n",
      "Restoring model weights from the end of the best epoch: 3.\n"
     ]
    }
   ],
   "source": [
    "from tensorflow.keras import regularizers\n",
    "model = tf.keras.models.Sequential([\n",
    "\n",
    "    tf.keras.layers.Embedding(input_dim=vocab_size, output_dim=100),\n",
    "    tf.keras.layers.Bidirectional(tf.keras.layers.LSTM(128 , return_sequences = True , dropout = 0.2 , recurrent_dropout = 0.2)),\n",
    "    tf.keras.layers.Bidirectional(tf.keras.layers.LSTM(64 , dropout = 0.2 , recurrent_dropout = 0.2)),\n",
    "    tf.keras.layers.Dense(64 , activation='relu'  , kernel_initializer = 'he_normal', kernel_regularizer=regularizers.l2(0.001)),\n",
    "    tf.keras.layers.Dropout(0.3),\n",
    "    tf.keras.layers.Dense(3 , activation = 'softmax')\n",
    "\n",
    "])\n",
    "# defining callbacks for Early stopping and changing the learning rate while training \n",
    "\n",
    "early_stopping = tf.keras.callbacks.EarlyStopping(monitor='val_loss', patience=8, restore_best_weights=True, verbose=1)\n",
    "reduce_lr = tf.keras.callbacks.ReduceLROnPlateau(monitor='val_loss', factor=0.5, patience=3, verbose=1, min_lr=1e-6)\n",
    "\n",
    "model.compile(\n",
    "    loss=\"sparse_categorical_crossentropy\",\n",
    "    optimizer=tf.keras.optimizers.Adam(learning_rate=0.001),\n",
    "    metrics=[\"accuracy\"]\n",
    ")\n",
    "with tf.device('/device:CPU:0'):\n",
    "    history = model.fit(\n",
    "        X_train_padded,  \n",
    "        y_train,  \n",
    "        validation_data=(X_test_padded, y_test), \n",
    "        batch_size=32,  \n",
    "        epochs=30,  \n",
    "        callbacks=[early_stopping,reduce_lr],  \n",
    "        verbose=1 \n",
    "    )"
   ]
  },
  {
   "cell_type": "code",
   "execution_count": 32,
   "id": "cf0ef633-23bc-4911-8010-a87a9078b16a",
   "metadata": {},
   "outputs": [
    {
     "data": {
      "image/png": "[encoded data removed]",
      "text/plain": [
       "<Figure size 1800x600 with 1 Axes>"
      ]
     },
     "metadata": {},
     "output_type": "display_data"
    },
    {
     "data": {
      "image/png": "[encoded data removed]",
      "text/plain": [
       "<Figure size 1800x600 with 1 Axes>"
      ]
     },
     "metadata": {},
     "output_type": "display_data"
    }
   ],
   "source": [
    "plt.figure(figsize=(12, 4), dpi=150)\n",
    "plt.plot(history.history['accuracy'], label='train_accuracy')\n",
    "plt.plot(history.history['val_accuracy'], label='val_accuracy')\n",
    "plt.title('Model Accuracy')\n",
    "plt.xlabel('Epoch')\n",
    "plt.ylabel('Accuracy')\n",
    "plt.legend(loc='lower right')\n",
    "plt.show()\n",
    "\n",
    "plt.figure(figsize=(12, 4), dpi=150)\n",
    "plt.plot(history.history['loss'], label='train_loss')\n",
    "plt.plot(history.history['val_loss'], label='val_loss')\n",
    "plt.title('Model Loss')\n",
    "plt.xlabel('Epoch')\n",
    "plt.ylabel('Loss')\n",
    "plt.legend(loc='upper right')\n",
    "plt.show()\n"
   ]
  },
  {
   "cell_type": "code",
   "execution_count": 33,
   "id": "957fb67d-f1da-4f37-8ff1-b23fcae6d4a1",
   "metadata": {},
   "outputs": [
    {
     "name": "stdout",
     "output_type": "stream",
     "text": [
      "\u001b[1m32/32\u001b[0m \u001b[32m━━━━━━━━━━━━━━━━━━━━\u001b[0m\u001b[37m\u001b[0m \u001b[1m4s\u001b[0m 91ms/step\n",
      "\u001b[1m32/32\u001b[0m \u001b[32m━━━━━━━━━━━━━━━━━━━━\u001b[0m\u001b[37m\u001b[0m \u001b[1m2s\u001b[0m 70ms/step - accuracy: 0.9423 - loss: 0.1581\n",
      "Loss: 0.1694977581501007, Accuracy: 0.9459999799728394\n"
     ]
    }
   ],
   "source": [
    "# Get model predictions (probabilities)\n",
    "y_probs = model.predict(X_test_padded)\n",
    "\n",
    "# Converting probs into Binary values\n",
    "y_pred = np.argmax(y_probs, axis=1)\n",
    "# Evaluate the model\n",
    "loss, accuracy = model.evaluate(X_test_padded, y_test)\n",
    "print(f\"Loss: {loss}, Accuracy: {accuracy}\") "
   ]
  },
  {
   "cell_type": "code",
   "execution_count": 34,
   "id": "0468901a-4f71-41de-aba0-145ed06976c4",
   "metadata": {
    "scrolled": true
   },
   "outputs": [
    {
     "name": "stdout",
     "output_type": "stream",
     "text": [
      "Classification Report:\n",
      "              precision    recall  f1-score   support\n",
      "\n",
      "           0       0.92      0.96      0.94       266\n",
      "           1       0.95      0.92      0.94       277\n",
      "           2       0.96      0.95      0.96       457\n",
      "\n",
      "    accuracy                           0.95      1000\n",
      "   macro avg       0.94      0.94      0.94      1000\n",
      "weighted avg       0.95      0.95      0.95      1000\n",
      "\n"
     ]
    },
    {
     "data": {
      "image/png": "[encoded data removed]",
      "text/plain": [
       "<Figure size 600x500 with 2 Axes>"
      ]
     },
     "metadata": {},
     "output_type": "display_data"
    }
   ],
   "source": [
    "\n",
    "from sklearn.metrics import confusion_matrix , classification_report\n",
    "\n",
    "cfm = confusion_matrix(y_test , y_pred)\n",
    "# classification report\n",
    "report = classification_report(y_test, y_pred)\n",
    "\n",
    "# the report\n",
    "print(\"Classification Report:\")\n",
    "print(report)\n",
    "plt.figure(figsize=(6, 5))\n",
    "sns.heatmap(cfm, annot=True, fmt=\"d\", cmap=\"Blues\", xticklabels=['Negative' , 'Positive' , 'Neutral'], yticklabels=['Negative' , 'Positive','Neutral'])\n",
    "plt.xlabel(\"Predicted Label\")\n",
    "plt.ylabel(\"True Label\")\n",
    "plt.title(\"Confusion Matrix\")\n",
    "plt.show()"
   ]
  },
  {
   "cell_type": "code",
   "execution_count": null,
   "id": "fd58c998-772d-4bd6-8bf0-d24887c28a87",
   "metadata": {},
   "outputs": [],
   "source": []
  }
 ],
 "metadata": {
  "kernelspec": {
   "display_name": "Python 3 (ipykernel)",
   "language": "python",
   "name": "python3"
  },
  "language_info": {
   "codemirror_mode": {
    "name": "ipython",
    "version": 3
   },
   "file_extension": ".py",
   "mimetype": "text/x-python",
   "name": "python",
   "nbconvert_exporter": "python",
   "pygments_lexer": "ipython3",
   "version": "3.12.7"
  }
 },
 "nbformat": 4,
 "nbformat_minor": 5
}
